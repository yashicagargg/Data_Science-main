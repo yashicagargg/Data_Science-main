{
 "cells": [
  {
   "cell_type": "code",
   "execution_count": 1,
   "metadata": {},
   "outputs": [
    {
     "name": "stdout",
     "output_type": "stream",
     "text": [
      "[0.77146075]\n"
     ]
    }
   ],
   "source": [
    "import numpy as np\n",
    "\n",
    "class Perceptron:\n",
    "    def __init__(self, input_size, hidden_size, output_size):\n",
    "        # Initialize weights randomly\n",
    "        self.weights = np.random.rand(input_size, hidden_size)\n",
    "        self.bias = np.random.rand(hidden_size)\n",
    "        self.activation_function = self.sigmoid\n",
    "        self.output_weights = np.random.rand(hidden_size, output_size)\n",
    "        self.output_bias = np.random.rand(output_size)\n",
    "\n",
    "    def sigmoid(self, x):\n",
    "        # Sigmoid activation function\n",
    "        return 1 / (1 + np.exp(-x))\n",
    "\n",
    "    def forward(self, inputs):\n",
    "        # Pass inputs through the input layer\n",
    "        hidden_layer = np.dot(inputs, self.weights) + self.bias\n",
    "        # Apply activation function\n",
    "        hidden_layer_output = self.activation_function(hidden_layer)\n",
    "        # Pass hidden layer output through the output layer\n",
    "        output_layer = np.dot(hidden_layer_output, self.output_weights) + self.output_bias\n",
    "        # Apply activation function\n",
    "        output_layer_output = self.activation_function(output_layer)\n",
    "        return output_layer_output\n",
    "\n",
    "# Test the perceptron\n",
    "input_size = 2\n",
    "hidden_size = 3\n",
    "output_size = 1\n",
    "\n",
    "# Create a perceptron with the given sizes\n",
    "perceptron = Perceptron(input_size, hidden_size, output_size)\n",
    "\n",
    "# Set inputs\n",
    "inputs = np.array([0.5, 0.2])\n",
    "\n",
    "# Run the inputs through the perceptron and print the output\n",
    "output = perceptron.forward(inputs)\n",
    "print(output)\n"
   ]
  }
 ],
 "metadata": {
  "kernelspec": {
   "display_name": "Python 3",
   "language": "python",
   "name": "python3"
  },
  "language_info": {
   "codemirror_mode": {
    "name": "ipython",
    "version": 3
   },
   "file_extension": ".py",
   "mimetype": "text/x-python",
   "name": "python",
   "nbconvert_exporter": "python",
   "pygments_lexer": "ipython3",
   "version": "3.10.5"
  },
  "orig_nbformat": 4,
  "vscode": {
   "interpreter": {
    "hash": "26de051ba29f2982a8de78e945f0abaf191376122a1563185a90213a26c5da77"
   }
  }
 },
 "nbformat": 4,
 "nbformat_minor": 2
}
