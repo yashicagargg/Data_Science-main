{
 "cells": [
  {
   "cell_type": "code",
   "execution_count": 1,
   "id": "ce63412c",
   "metadata": {},
   "outputs": [],
   "source": [
    "import tensorflow as tf"
   ]
  },
  {
   "cell_type": "markdown",
   "id": "6818aaec",
   "metadata": {},
   "source": [
    "# Basics Computation"
   ]
  },
  {
   "cell_type": "code",
   "execution_count": 45,
   "id": "65a93cea",
   "metadata": {},
   "outputs": [
    {
     "data": {
      "text/plain": [
       "<tf.Variable 'Variable:0' shape=() dtype=int32, numpy=0>"
      ]
     },
     "execution_count": 45,
     "metadata": {},
     "output_type": "execute_result"
    }
   ],
   "source": [
    "v = tf.Variable(0)\n",
    "v"
   ]
  },
  {
   "cell_type": "code",
   "execution_count": 47,
   "id": "51779b4b",
   "metadata": {},
   "outputs": [
    {
     "data": {
      "text/plain": [
       "(<tf.Tensor: shape=(1,), dtype=int32, numpy=array([2])>,\n",
       " <tf.Tensor: shape=(1,), dtype=int32, numpy=array([3])>)"
      ]
     },
     "execution_count": 47,
     "metadata": {},
     "output_type": "execute_result"
    }
   ],
   "source": [
    "a=tf.constant([2],name = 'constant_a')\n",
    "b=tf.constant([3],name = 'constant_b')\n",
    "a,b"
   ]
  },
  {
   "cell_type": "code",
   "execution_count": 11,
   "id": "0e290d7b",
   "metadata": {},
   "outputs": [
    {
     "name": "stdout",
     "output_type": "stream",
     "text": [
      "2\r\n"
     ]
    }
   ],
   "source": [
    "tf.print(a.numpy()[0])"
   ]
  },
  {
   "cell_type": "code",
   "execution_count": 16,
   "id": "61c5f3e4",
   "metadata": {},
   "outputs": [],
   "source": [
    "@tf.function\n",
    "def function(a,b):\n",
    "    c=tf.add(a,b)\n",
    "    print(c)\n",
    "    return c"
   ]
  },
  {
   "cell_type": "code",
   "execution_count": 20,
   "id": "4142052b",
   "metadata": {},
   "outputs": [
    {
     "name": "stdout",
     "output_type": "stream",
     "text": [
      "5\r\n"
     ]
    }
   ],
   "source": [
    "result = tf.add(a,b)\n",
    "tf.print(result[0])"
   ]
  },
  {
   "cell_type": "markdown",
   "id": "e0274ac5",
   "metadata": {},
   "source": [
    "# Dimensions"
   ]
  },
  {
   "cell_type": "code",
   "execution_count": 23,
   "id": "5b12ddb9",
   "metadata": {},
   "outputs": [],
   "source": [
    "scalar = tf.constant(2)\n",
    "vector = tf.constant([5,6,2])\n",
    "matrix = tf.constant([[1,2,3],[4,5,6],[7,8,9]])\n",
    "tensor = tf.constant([[[1,2,3],[4,5,6],[7,8,9],[1,2,3]]])"
   ]
  },
  {
   "cell_type": "code",
   "execution_count": 24,
   "id": "b572d5d2",
   "metadata": {},
   "outputs": [
    {
     "data": {
      "text/plain": [
       "TensorShape([])"
      ]
     },
     "execution_count": 24,
     "metadata": {},
     "output_type": "execute_result"
    }
   ],
   "source": [
    "scalar.shape"
   ]
  },
  {
   "cell_type": "code",
   "execution_count": 25,
   "id": "4a9d8218",
   "metadata": {},
   "outputs": [
    {
     "data": {
      "text/plain": [
       "TensorShape([3])"
      ]
     },
     "execution_count": 25,
     "metadata": {},
     "output_type": "execute_result"
    }
   ],
   "source": [
    "vector.shape"
   ]
  },
  {
   "cell_type": "code",
   "execution_count": 26,
   "id": "3e5d5ad4",
   "metadata": {},
   "outputs": [
    {
     "data": {
      "text/plain": [
       "TensorShape([3, 3])"
      ]
     },
     "execution_count": 26,
     "metadata": {},
     "output_type": "execute_result"
    }
   ],
   "source": [
    "matrix.shape"
   ]
  },
  {
   "cell_type": "code",
   "execution_count": 27,
   "id": "cdf9c5e4",
   "metadata": {},
   "outputs": [
    {
     "data": {
      "text/plain": [
       "TensorShape([1, 4, 3])"
      ]
     },
     "execution_count": 27,
     "metadata": {},
     "output_type": "execute_result"
    }
   ],
   "source": [
    "tensor.shape"
   ]
  },
  {
   "cell_type": "markdown",
   "id": "860bdda0",
   "metadata": {},
   "source": [
    "# Addition of Matrix"
   ]
  },
  {
   "cell_type": "code",
   "execution_count": 33,
   "id": "9eb03442",
   "metadata": {},
   "outputs": [
    {
     "name": "stdout",
     "output_type": "stream",
     "text": [
      "tf.Tensor(\n",
      "[[ 8 10 12]\n",
      " [ 8 10 12]\n",
      " [ 8 10 12]], shape=(3, 3), dtype=int32)\n",
      "tf.Tensor(\n",
      "[[ 8 10 12]\n",
      " [ 8 10 12]\n",
      " [ 8 10 12]], shape=(3, 3), dtype=int32)\n"
     ]
    }
   ],
   "source": [
    "m1 = tf.constant([[1,2,3],[4,5,6],[7,8,9]])\n",
    "m2 = tf.constant([[7,8,9],[4,5,6],[1,2,3]])\n",
    "@tf.function\n",
    "def add(m1,m2):\n",
    "    ans_m = tf.add(m1,m2)\n",
    "    return ans_m\n",
    "\n",
    "# Normally adding \n",
    "ans_ma = m1 +m2\n",
    "print(ans_ma)\n",
    "\n",
    "# Tensorflow adding \n",
    "ans_m = tf.add(m1,m2)\n",
    "print(ans_m)"
   ]
  },
  {
   "cell_type": "markdown",
   "id": "d4ab6ff1",
   "metadata": {},
   "source": [
    "# Multiplication"
   ]
  },
  {
   "cell_type": "code",
   "execution_count": 42,
   "id": "c64a730c",
   "metadata": {},
   "outputs": [
    {
     "name": "stdout",
     "output_type": "stream",
     "text": [
      "tf.Tensor(\n",
      "[[15 18]\n",
      " [48 57]], shape=(2, 2), dtype=int32)\n"
     ]
    }
   ],
   "source": [
    "m1 = tf.constant([[1,2],[4,5]])\n",
    "m2 = tf.constant([[7,8],[4,5]])\n",
    "@tf.function\n",
    "def mul(m1,m2):\n",
    "    return tf.matmul(m1,m2)\n",
    "\n",
    "ans_m = mul(m1,m2)\n",
    "# Tensorflow adding \n",
    "print(ans_m)"
   ]
  },
  {
   "cell_type": "code",
   "execution_count": 51,
   "id": "ac173d86",
   "metadata": {},
   "outputs": [
    {
     "name": "stdout",
     "output_type": "stream",
     "text": [
      "tf.Tensor(7, shape=(), dtype=int32)\n",
      "tf.Tensor(8, shape=(), dtype=int32)\n",
      "tf.Tensor(9, shape=(), dtype=int32)\n"
     ]
    }
   ],
   "source": [
    "def i_one(v):\n",
    "    v = tf.add(v,1)\n",
    "    return v\n",
    "for i in range(3):\n",
    "    v=i_one(v)\n",
    "    print(v)"
   ]
  },
  {
   "cell_type": "markdown",
   "id": "cec1106b",
   "metadata": {},
   "source": [
    "# Operations"
   ]
  },
  {
   "cell_type": "code",
   "execution_count": 54,
   "id": "4d6e4627",
   "metadata": {},
   "outputs": [
    {
     "name": "stdout",
     "output_type": "stream",
     "text": [
      "r =: tf.Tensor([12], shape=(1,), dtype=int32)\n",
      "s =: tf.Tensor([-2], shape=(1,), dtype=int32)\n"
     ]
    }
   ],
   "source": [
    "p = tf.constant([5])\n",
    "q = tf.constant([7])\n",
    "r = tf.add(p,q)\n",
    "s = tf.subtract(p,q)\n",
    "\n",
    "print ('r =: %s' % r)\n",
    "    \n",
    "print ('s =: %s' % s)"
   ]
  },
  {
   "cell_type": "code",
   "execution_count": 71,
   "id": "61fb936a",
   "metadata": {},
   "outputs": [
    {
     "name": "stdout",
     "output_type": "stream",
     "text": [
      "32.0\n"
     ]
    }
   ],
   "source": [
    "import numpy as np\n",
    "with tf.compat.v1.Session() as s:\n",
    "    x = tf.constant(np.array([1.,2.,3.]))\n",
    "    y = tf.constant(np.array([4.,5.,6.]))\n",
    "    z = tf.tensordot(x,y,1)\n",
    "    output = s.run(z)\n",
    "    s.close()\n",
    "print(output)"
   ]
  }
 ],
 "metadata": {
  "kernelspec": {
   "display_name": "Python 3 (ipykernel)",
   "language": "python",
   "name": "python3"
  },
  "language_info": {
   "codemirror_mode": {
    "name": "ipython",
    "version": 3
   },
   "file_extension": ".py",
   "mimetype": "text/x-python",
   "name": "python",
   "nbconvert_exporter": "python",
   "pygments_lexer": "ipython3",
   "version": "3.9.13"
  }
 },
 "nbformat": 4,
 "nbformat_minor": 5
}
