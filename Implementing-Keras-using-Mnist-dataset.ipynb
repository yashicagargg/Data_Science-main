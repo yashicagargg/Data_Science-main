{
 "cells": [
  {
   "cell_type": "code",
   "execution_count": 2,
   "id": "bf6a5e93",
   "metadata": {},
   "outputs": [],
   "source": [
    "import tensorflow as tf\n",
    "from tensorflow import keras"
   ]
  },
  {
   "cell_type": "code",
   "execution_count": 3,
   "id": "6104121b",
   "metadata": {},
   "outputs": [],
   "source": [
    "(x_train, y_train), (x_test, y_test) = keras.datasets.mnist.load_data()"
   ]
  },
  {
   "cell_type": "code",
   "execution_count": 4,
   "id": "baf272df",
   "metadata": {},
   "outputs": [],
   "source": [
    "x_train = x_train.reshape(x_train.shape[0], 28, 28, 1).astype('float32') / 255\n",
    "x_test = x_test.reshape(x_test.shape[0], 28, 28, 1).astype('float32') / 255"
   ]
  },
  {
   "cell_type": "code",
   "execution_count": 5,
   "id": "e9fea2ad",
   "metadata": {},
   "outputs": [],
   "source": [
    "y_train = keras.utils.to_categorical(y_train, 10)\n",
    "y_test = keras.utils.to_categorical(y_test, 10)"
   ]
  },
  {
   "cell_type": "code",
   "execution_count": 6,
   "id": "dc658f30",
   "metadata": {},
   "outputs": [],
   "source": [
    "model = keras.Sequential([\n",
    "    keras.layers.Conv2D(32, kernel_size=(3, 3), activation='relu', input_shape=(28, 28, 1)),\n",
    "    keras.layers.MaxPooling2D(pool_size=(2, 2)),\n",
    "    keras.layers.Flatten(),\n",
    "    keras.layers.Dense(128, activation='relu'),\n",
    "    keras.layers.Dense(10, activation='softmax')\n",
    "])"
   ]
  },
  {
   "cell_type": "code",
   "execution_count": 7,
   "id": "39c517a6",
   "metadata": {},
   "outputs": [],
   "source": [
    "model.compile(loss='categorical_crossentropy', optimizer='adam', metrics=['accuracy'])"
   ]
  },
  {
   "cell_type": "code",
   "execution_count": 8,
   "id": "23f8e977",
   "metadata": {},
   "outputs": [
    {
     "name": "stdout",
     "output_type": "stream",
     "text": [
      "Epoch 1/10\n",
      "469/469 [==============================] - 16s 32ms/step - loss: 0.2232 - accuracy: 0.9362 - val_loss: 0.0859 - val_accuracy: 0.9737\n",
      "Epoch 2/10\n",
      "469/469 [==============================] - 15s 31ms/step - loss: 0.0697 - accuracy: 0.9795 - val_loss: 0.0593 - val_accuracy: 0.9800\n",
      "Epoch 3/10\n",
      "469/469 [==============================] - 15s 31ms/step - loss: 0.0461 - accuracy: 0.9862 - val_loss: 0.0483 - val_accuracy: 0.9837\n",
      "Epoch 4/10\n",
      "469/469 [==============================] - 14s 29ms/step - loss: 0.0331 - accuracy: 0.9899 - val_loss: 0.0416 - val_accuracy: 0.9850\n",
      "Epoch 5/10\n",
      "469/469 [==============================] - 14s 31ms/step - loss: 0.0248 - accuracy: 0.9924 - val_loss: 0.0457 - val_accuracy: 0.9858\n",
      "Epoch 6/10\n",
      "469/469 [==============================] - 15s 32ms/step - loss: 0.0189 - accuracy: 0.9942 - val_loss: 0.0436 - val_accuracy: 0.9868\n",
      "Epoch 7/10\n",
      "469/469 [==============================] - 14s 30ms/step - loss: 0.0140 - accuracy: 0.9958 - val_loss: 0.0462 - val_accuracy: 0.9860\n",
      "Epoch 8/10\n",
      "469/469 [==============================] - 15s 32ms/step - loss: 0.0108 - accuracy: 0.9969 - val_loss: 0.0450 - val_accuracy: 0.9859\n",
      "Epoch 9/10\n",
      "469/469 [==============================] - 15s 32ms/step - loss: 0.0091 - accuracy: 0.9975 - val_loss: 0.0475 - val_accuracy: 0.9856\n",
      "Epoch 10/10\n",
      "469/469 [==============================] - 14s 30ms/step - loss: 0.0078 - accuracy: 0.9976 - val_loss: 0.0483 - val_accuracy: 0.9869\n"
     ]
    },
    {
     "data": {
      "text/plain": [
       "<keras.callbacks.History at 0x2a7967bbca0>"
      ]
     },
     "execution_count": 8,
     "metadata": {},
     "output_type": "execute_result"
    }
   ],
   "source": [
    "model.fit(x_train, y_train, batch_size=128, epochs=10, validation_data=(x_test, y_test))"
   ]
  },
  {
   "cell_type": "code",
   "execution_count": 9,
   "id": "e01560c2",
   "metadata": {},
   "outputs": [
    {
     "name": "stdout",
     "output_type": "stream",
     "text": [
      "Test loss: 0.04825912043452263\n",
      "Test accuracy: 0.9868999719619751\n"
     ]
    }
   ],
   "source": [
    "score = model.evaluate(x_test, y_test, verbose=0)\n",
    "print('Test loss:', score[0])\n",
    "print('Test accuracy:', score[1])"
   ]
  }
 ],
 "metadata": {
  "kernelspec": {
   "display_name": "Python 3 (ipykernel)",
   "language": "python",
   "name": "python3"
  },
  "language_info": {
   "codemirror_mode": {
    "name": "ipython",
    "version": 3
   },
   "file_extension": ".py",
   "mimetype": "text/x-python",
   "name": "python",
   "nbconvert_exporter": "python",
   "pygments_lexer": "ipython3",
   "version": "3.9.13"
  }
 },
 "nbformat": 4,
 "nbformat_minor": 5
}
